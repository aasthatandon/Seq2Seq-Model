{
 "cells": [
  {
   "cell_type": "code",
   "execution_count": 1,
   "id": "61d58add-741e-428d-b322-4cdd32a54de3",
   "metadata": {},
   "outputs": [],
   "source": [
    "import pandas as pd\n",
    "from sklearn.model_selection import train_test_split\n",
    "import string\n",
    "from string import digits\n",
    "import re\n",
    "from sklearn.utils import shuffle\n",
    "from keras.layers import LSTM, Input, Dense,Embedding\n",
    "from keras.models import Model,load_model\n",
    "from keras.preprocessing.text import one_hot\n",
    "from keras.preprocessing.text import Tokenizer\n",
    "from keras.models import model_from_json\n",
    "import pickle as pkl\n",
    "import numpy as np\n",
    "from keras.utils.vis_utils import plot_model\n",
    "import matplotlib.pyplot as plt\n",
    "from tensorflow import keras\n",
    "from sklearn.utils import shuffle\n",
    "pad_sequences = keras.preprocessing.sequence.pad_sequences"
   ]
  },
  {
   "cell_type": "markdown",
   "id": "f8e71b74-862f-4a18-b7a2-8dc9deee35b1",
   "metadata": {},
   "source": [
    "### Download and Reading the data"
   ]
  },
  {
   "cell_type": "markdown",
   "id": "5fd60242-27f0-4209-99c6-4d5ceee4774f",
   "metadata": {},
   "source": [
    "This is a shell command that downloads a zip file containing French-English data from a website and extracts its contents using the unzip utility. The first command downloads the file, and the second command extracts it into the current directory."
   ]
  },
  {
   "cell_type": "code",
   "execution_count": 2,
   "id": "2393d8f1-e75a-45a3-9dda-1f50b95644d3",
   "metadata": {
    "tags": []
   },
   "outputs": [
    {
     "data": {
      "text/plain": [
       "['Archive:  fra-eng.zip',\n",
       " 'replace _about.txt? [y]es, [n]o, [A]ll, [N]one, [r]ename:  NULL',\n",
       " '(EOF or read error, treating as \"[N]one\" ...)']"
      ]
     },
     "execution_count": 2,
     "metadata": {},
     "output_type": "execute_result"
    }
   ],
   "source": [
    "!!curl -O http://www.manythings.org/anki/fra-eng.zip\n",
    "!!unzip fra-eng.zip"
   ]
  },
  {
   "cell_type": "markdown",
   "id": "fa9573a6-f867-4803-a3e6-1d6f6170986f",
   "metadata": {},
   "source": [
    "Reading the data"
   ]
  },
  {
   "cell_type": "code",
   "execution_count": 3,
   "id": "1f3b95f9-d31b-470a-80b6-4b339f412a0c",
   "metadata": {
    "tags": []
   },
   "outputs": [],
   "source": [
    "lines = pd.read_table('fra.txt', names=['English', 'French','other'])[['English', 'French']]"
   ]
  },
  {
   "cell_type": "code",
   "execution_count": 4,
   "id": "0ac99cf0-3fd1-4278-8bfb-2cec5c42cbe0",
   "metadata": {
    "tags": []
   },
   "outputs": [
    {
     "data": {
      "text/html": [
       "<div>\n",
       "<style scoped>\n",
       "    .dataframe tbody tr th:only-of-type {\n",
       "        vertical-align: middle;\n",
       "    }\n",
       "\n",
       "    .dataframe tbody tr th {\n",
       "        vertical-align: top;\n",
       "    }\n",
       "\n",
       "    .dataframe thead th {\n",
       "        text-align: right;\n",
       "    }\n",
       "</style>\n",
       "<table border=\"1\" class=\"dataframe\">\n",
       "  <thead>\n",
       "    <tr style=\"text-align: right;\">\n",
       "      <th></th>\n",
       "      <th>English</th>\n",
       "      <th>French</th>\n",
       "    </tr>\n",
       "  </thead>\n",
       "  <tbody>\n",
       "    <tr>\n",
       "      <th>0</th>\n",
       "      <td>I don't feel like taking my dog for a walk thi...</td>\n",
       "      <td>Je n'ai pas envie de sortir mon chien ce matin.</td>\n",
       "    </tr>\n",
       "    <tr>\n",
       "      <th>1</th>\n",
       "      <td>Tom smiled awkwardly.</td>\n",
       "      <td>Tom sourit maladroitement.</td>\n",
       "    </tr>\n",
       "    <tr>\n",
       "      <th>2</th>\n",
       "      <td>I thought that I'd never see you again.</td>\n",
       "      <td>Je pensais que je ne vous reverrais jamais.</td>\n",
       "    </tr>\n",
       "    <tr>\n",
       "      <th>3</th>\n",
       "      <td>You won't go, will you?</td>\n",
       "      <td>Vous n'irez pas, si ?</td>\n",
       "    </tr>\n",
       "    <tr>\n",
       "      <th>4</th>\n",
       "      <td>You're not going to get away with it.</td>\n",
       "      <td>Tu ne vas pas t'en sortir comme ça.</td>\n",
       "    </tr>\n",
       "  </tbody>\n",
       "</table>\n",
       "</div>"
      ],
      "text/plain": [
       "                                             English  \\\n",
       "0  I don't feel like taking my dog for a walk thi...   \n",
       "1                              Tom smiled awkwardly.   \n",
       "2            I thought that I'd never see you again.   \n",
       "3                            You won't go, will you?   \n",
       "4              You're not going to get away with it.   \n",
       "\n",
       "                                            French  \n",
       "0  Je n'ai pas envie de sortir mon chien ce matin.  \n",
       "1                       Tom sourit maladroitement.  \n",
       "2      Je pensais que je ne vous reverrais jamais.  \n",
       "3                            Vous n'irez pas, si ?  \n",
       "4              Tu ne vas pas t'en sortir comme ça.  "
      ]
     },
     "execution_count": 4,
     "metadata": {},
     "output_type": "execute_result"
    }
   ],
   "source": [
    "lines = shuffle(lines)\n",
    "lines = lines.reset_index(drop=True)\n",
    "lines.head()"
   ]
  },
  {
   "cell_type": "markdown",
   "id": "b8fc29c2-1646-43e4-9b48-9c400f64d072",
   "metadata": {},
   "source": [
    "Limiting sample size to be 20000 due to compute limitations"
   ]
  },
  {
   "cell_type": "code",
   "execution_count": 5,
   "id": "430eb925-f5a8-41b7-a2f0-abff3f356aaf",
   "metadata": {
    "tags": []
   },
   "outputs": [
    {
     "name": "stdout",
     "output_type": "stream",
     "text": [
      "total:                                                  English  \\\n",
      "0      I don't feel like taking my dog for a walk thi...   \n",
      "1                                  Tom smiled awkwardly.   \n",
      "2                I thought that I'd never see you again.   \n",
      "3                                You won't go, will you?   \n",
      "4                  You're not going to get away with it.   \n",
      "...                                                  ...   \n",
      "19995                      I never get tired of talking.   \n",
      "19996              Why did you decide to buy this house?   \n",
      "19997                              He's out of practice.   \n",
      "19998                    Do you have any ideas about it?   \n",
      "19999  She asked him to help her father clean the gar...   \n",
      "\n",
      "                                                  French  \n",
      "0        Je n'ai pas envie de sortir mon chien ce matin.  \n",
      "1                             Tom sourit maladroitement.  \n",
      "2            Je pensais que je ne vous reverrais jamais.  \n",
      "3                                  Vous n'irez pas, si ?  \n",
      "4                    Tu ne vas pas t'en sortir comme ça.  \n",
      "...                                                  ...  \n",
      "19995                   Je ne me lasse jamais de parler.  \n",
      "19996     Pourquoi as-tu décidé d'acheter cette maison ?  \n",
      "19997                                    Il est rouillé.  \n",
      "19998                                En as-tu une idée ?  \n",
      "19999  Elle lui a demandé d'aider son père à nettoyer...  \n",
      "\n",
      "[20000 rows x 2 columns]\n"
     ]
    }
   ],
   "source": [
    "num_samples = 20000 #selects first 20000 rows of pandas df lines\n",
    "lines = lines.iloc[:num_samples,:]\n",
    "lines.head()\n",
    "print(\"total: {}\".format(lines))"
   ]
  },
  {
   "cell_type": "markdown",
   "id": "3e03f46b-035e-4024-8057-98deefa433ce",
   "metadata": {},
   "source": [
    "### Prepare the Data"
   ]
  },
  {
   "cell_type": "markdown",
   "id": "704cd05c-ea46-44cf-8e79-56a918f9d27f",
   "metadata": {},
   "source": [
    "The code defines clean_text() function to clean text data and applies it to 'English' and 'French' columns of a pandas DataFrame lines. It removes punctuation, digits, converts to lowercase, and adds tokens to 'French' column."
   ]
  },
  {
   "cell_type": "code",
   "execution_count": 6,
   "id": "6783a222-900c-4cb3-bd68-cfdd179f121e",
   "metadata": {
    "tags": []
   },
   "outputs": [
    {
     "data": {
      "text/html": [
       "<div>\n",
       "<style scoped>\n",
       "    .dataframe tbody tr th:only-of-type {\n",
       "        vertical-align: middle;\n",
       "    }\n",
       "\n",
       "    .dataframe tbody tr th {\n",
       "        vertical-align: top;\n",
       "    }\n",
       "\n",
       "    .dataframe thead th {\n",
       "        text-align: right;\n",
       "    }\n",
       "</style>\n",
       "<table border=\"1\" class=\"dataframe\">\n",
       "  <thead>\n",
       "    <tr style=\"text-align: right;\">\n",
       "      <th></th>\n",
       "      <th>English</th>\n",
       "      <th>French</th>\n",
       "    </tr>\n",
       "  </thead>\n",
       "  <tbody>\n",
       "    <tr>\n",
       "      <th>0</th>\n",
       "      <td>i dont feel like taking my dog for a walk this...</td>\n",
       "      <td>START_ je nai pas envie de sortir mon chien ce...</td>\n",
       "    </tr>\n",
       "    <tr>\n",
       "      <th>1</th>\n",
       "      <td>tom smiled awkwardly</td>\n",
       "      <td>START_ tom sourit maladroitement _END</td>\n",
       "    </tr>\n",
       "    <tr>\n",
       "      <th>2</th>\n",
       "      <td>i thought that id never see you again</td>\n",
       "      <td>START_ je pensais que je ne vous reverrais jam...</td>\n",
       "    </tr>\n",
       "    <tr>\n",
       "      <th>3</th>\n",
       "      <td>you wont go will you</td>\n",
       "      <td>START_ vous nirez pas si _END</td>\n",
       "    </tr>\n",
       "    <tr>\n",
       "      <th>4</th>\n",
       "      <td>youre not going to get away with it</td>\n",
       "      <td>START_ tu ne vas pas ten sortir comme ça _END</td>\n",
       "    </tr>\n",
       "  </tbody>\n",
       "</table>\n",
       "</div>"
      ],
      "text/plain": [
       "                                             English  \\\n",
       "0  i dont feel like taking my dog for a walk this...   \n",
       "1                               tom smiled awkwardly   \n",
       "2              i thought that id never see you again   \n",
       "3                               you wont go will you   \n",
       "4                youre not going to get away with it   \n",
       "\n",
       "                                              French  \n",
       "0  START_ je nai pas envie de sortir mon chien ce...  \n",
       "1              START_ tom sourit maladroitement _END  \n",
       "2  START_ je pensais que je ne vous reverrais jam...  \n",
       "3                      START_ vous nirez pas si _END  \n",
       "4      START_ tu ne vas pas ten sortir comme ça _END  "
      ]
     },
     "execution_count": 6,
     "metadata": {},
     "output_type": "execute_result"
    }
   ],
   "source": [
    "# Define a function to clean the text\n",
    "def clean_text(text):\n",
    "    text = text.lower()\n",
    "    text = text.translate(str.maketrans('', '', string.punctuation))\n",
    "    text = ''.join(c for c in text if not c.isdigit())\n",
    "    text = text.strip()\n",
    "    return text\n",
    "\n",
    "# Clean the text in the 'English' column\n",
    "lines['English'] = lines['English'].apply(clean_text)\n",
    "\n",
    "# Clean the text in the 'French' column, and add start and end tokens\n",
    "lines['French'] = lines['French'].apply(clean_text)\n",
    "lines['French'] = 'START_ ' + lines['French'] + ' _END'\n",
    "\n",
    "lines.head()"
   ]
  },
  {
   "cell_type": "markdown",
   "id": "426a9362-a1dd-4803-9fe4-6a9a5acde72e",
   "metadata": {},
   "source": [
    "This code extracts unique words from text to create vocabulary sets for English and French. It then creates dictionaries to map words to numbers and adds a padding character to the target set."
   ]
  },
  {
   "cell_type": "code",
   "execution_count": 7,
   "id": "c66230d1-1093-4c3c-88f4-0506981f950b",
   "metadata": {
    "tags": []
   },
   "outputs": [],
   "source": [
    "# Define a function to extract unique words from a text\n",
    "def extract_words(text):\n",
    "    return set(text.split())\n",
    "\n",
    "# Extract the English and French vocabularies\n",
    "all_eng_words = set()\n",
    "all_fre_words = set()\n",
    "for eng, fre in zip(lines['English'], lines['French']):\n",
    "    all_eng_words.update(extract_words(eng))\n",
    "    all_fre_words.update(extract_words(fre))\n",
    "\n",
    "# Sort the input and target words\n",
    "input_words = sorted(list(all_eng_words))\n",
    "target_words = sorted(list(all_fre_words))\n",
    "\n",
    "# Compute the number of unique input and target words\n",
    "num_encoder_tokens = len(input_words)\n",
    "num_decoder_tokens = len(target_words) + 1  # Add one for zero padding\n",
    "\n",
    "# Create a dictionary to convert words to numbers\n",
    "input_token_index = {word: i+1 for i, word in enumerate(input_words)}\n",
    "target_token_index = {word: i+1 for i, word in enumerate(target_words)}\n",
    "\n",
    "# Create a dictionary to convert numbers to words\n",
    "reverse_input_token_index = {i+1: word for i, word in enumerate(input_words)}\n",
    "reverse_target_token_index = {i+1: word for i, word in enumerate(target_words)}\n",
    "\n",
    "# Add the zero padding character to the target dictionary\n",
    "reverse_target_token_index[num_decoder_tokens] = '_PAD'"
   ]
  },
  {
   "cell_type": "code",
   "execution_count": 8,
   "id": "d7b80b9a-0c4d-49f5-9cf9-8d834c171ec7",
   "metadata": {
    "tags": []
   },
   "outputs": [],
   "source": [
    "# Compute the maximum sequence lengths\n",
    "max_length_src = np.max(lines['English'].apply(lambda x: len(x.split())))\n",
    "max_length_tar = np.max(lines['French'].apply(lambda x: len(x.split())))"
   ]
  },
  {
   "cell_type": "markdown",
   "id": "2ac35445-dccc-4a79-8ab9-1f4c381a9c7d",
   "metadata": {},
   "source": [
    "### Splitting the data"
   ]
  },
  {
   "cell_type": "markdown",
   "id": "bfc2e3e2-12a0-4fc1-9eee-873aaa1c54c6",
   "metadata": {},
   "source": [
    "Splitted the English and French text data into training and testing sets with a 90:10 ratio"
   ]
  },
  {
   "cell_type": "code",
   "execution_count": 9,
   "id": "71774943-f306-4097-ba73-4dce3f3b8994",
   "metadata": {
    "tags": []
   },
   "outputs": [
    {
     "data": {
      "text/plain": [
       "((18000,), (2000,))"
      ]
     },
     "execution_count": 9,
     "metadata": {},
     "output_type": "execute_result"
    }
   ],
   "source": [
    "lines = shuffle(lines)\n",
    "X, y = lines.English, lines.French\n",
    "X_train, X_test, y_train, y_test = train_test_split(X, y, test_size=0.1, random_state = 0)\n",
    "X_train.shape, X_test.shape"
   ]
  },
  {
   "cell_type": "markdown",
   "id": "b69f86a4-ec62-4aaf-8093-57eac44df9de",
   "metadata": {
    "tags": []
   },
   "source": [
    "The generate_batch function loads training data in batches for a machine translation model. It yields batches of one-hot encoded encoder input, decoder input, and decoder target data by mapping words to numerical indices."
   ]
  },
  {
   "cell_type": "code",
   "execution_count": 10,
   "id": "6b5a87b2-2123-4592-9d99-60b1ea3979b1",
   "metadata": {
    "tags": []
   },
   "outputs": [],
   "source": [
    "# generator function to load the data in batches\n",
    "def generate_batch(X = X_train, y = y_train, batch_size = 128):\n",
    "    while True:\n",
    "        for j in range(0, len(X), batch_size):\n",
    "            encoder_input_data = np.zeros((batch_size, max_length_src),dtype='float32')\n",
    "            decoder_input_data = np.zeros((batch_size, max_length_tar),dtype='float32')\n",
    "            decoder_target_data = np.zeros((batch_size, max_length_tar, num_decoder_tokens),dtype='float32')\n",
    "            for i, (input_text, target_text) in enumerate(zip(X[j:j+batch_size], y[j:j+batch_size])):\n",
    "                for t, word in enumerate(input_text.split()):\n",
    "                    encoder_input_data[i, t] = input_token_index[word] # encoder input seq\n",
    "                for t, word in enumerate(target_text.split()):\n",
    "                    if t<len(target_text.split())-1:\n",
    "                        decoder_input_data[i, t] = target_token_index[word] # decoder input seq\n",
    "                    if t>0:\n",
    "                        # decoder target sequence (one hot encoded)\n",
    "                        # does not include the START_ token\n",
    "                        # Offset by one timestep\n",
    "                        decoder_target_data[i, t - 1, target_token_index[word]] = 1.\n",
    "            yield([encoder_input_data, decoder_input_data], decoder_target_data)"
   ]
  },
  {
   "cell_type": "markdown",
   "id": "859ca65b-ad89-4a87-ae0a-8ccc581b998a",
   "metadata": {},
   "source": [
    "### Build the Model"
   ]
  },
  {
   "cell_type": "markdown",
   "id": "d1cd6677-93f4-4516-bb26-8e437c18f37d",
   "metadata": {},
   "source": [
    "The build_model function constructs a machine translation model that uses an encoder-decoder architecture with LSTM layers. The model takes encoder and decoder input, maps words to embeddings, generates a probability distribution over the target vocabulary, and computes the categorical cross-entropy loss."
   ]
  },
  {
   "cell_type": "code",
   "execution_count": 11,
   "id": "2c61be35-f810-4b07-a4bb-51188afc671d",
   "metadata": {
    "tags": []
   },
   "outputs": [],
   "source": [
    "def build_model(\n",
    "    num_encoder_tokens, num_decoder_tokens, latent_dim=128, mname='word_model'\n",
    "):\n",
    "    # Encoder\n",
    "    encoder_inputs = Input(shape=(None,),name=\"encoder_inputs\")\n",
    "    enc_emb =  Embedding(num_encoder_tokens, latent_dim, mask_zero = True)(encoder_inputs)\n",
    "    encoder_lstm = LSTM(latent_dim, return_state=True)\n",
    "    encoder_outputs, state_h, state_c = encoder_lstm(enc_emb)\n",
    "\n",
    "    # We discard 'encoder_outputs' and only keep the states.\n",
    "    encoder_states = [state_h, state_c]\n",
    "\n",
    "    # Set up the decoder, using 'encoder_states' as initial state.\n",
    "    decoder_inputs = Input(shape=(None,),name=\"decoder_inputs\")\n",
    "    dec_emb_layer = Embedding(num_decoder_tokens, latent_dim, mask_zero = True)\n",
    "    dec_emb = dec_emb_layer(decoder_inputs)\n",
    "    decoder_lstm = LSTM(latent_dim, return_sequences=True, return_state=True)\n",
    "    decoder_outputs, _, _ = decoder_lstm(dec_emb, initial_state=encoder_states)\n",
    "\n",
    "    # Use a softmax to generate a probability distribution over the target vocabulary for each time step\n",
    "    decoder_dense = Dense(num_decoder_tokens, activation='softmax')\n",
    "    decoder_outputs = decoder_dense(decoder_outputs)\n",
    "\n",
    "    # Define the word model that will turn encoder_input_data & decoder_input_data into decoder_target_data\n",
    "    word_model = Model([encoder_inputs, decoder_inputs], decoder_outputs ,name=mname )\n",
    "    # Compile the model\n",
    "    word_model.compile(optimizer='rmsprop', loss='categorical_crossentropy', metrics=['acc'])\n",
    "    return word_model, encoder_states,  encoder_inputs, dec_emb_layer, decoder_inputs, decoder_lstm, decoder_dense"
   ]
  },
  {
   "cell_type": "markdown",
   "id": "bad14c50-cece-4df8-9959-d15847eb78ba",
   "metadata": {},
   "source": [
    "The code modifies the latent dimensionality hyperparameter to 256, calls the build_model function with updated parameters, and prints the model summary."
   ]
  },
  {
   "cell_type": "code",
   "execution_count": 12,
   "id": "fd7158cc-d26c-4df5-bcee-c1328096fcc3",
   "metadata": {
    "tags": []
   },
   "outputs": [
    {
     "name": "stdout",
     "output_type": "stream",
     "text": [
      "Model: \"word_model\"\n",
      "__________________________________________________________________________________________________\n",
      " Layer (type)                   Output Shape         Param #     Connected to                     \n",
      "==================================================================================================\n",
      " encoder_inputs (InputLayer)    [(None, None)]       0           []                               \n",
      "                                                                                                  \n",
      " decoder_inputs (InputLayer)    [(None, None)]       0           []                               \n",
      "                                                                                                  \n",
      " embedding (Embedding)          (None, None, 256)    1677312     ['encoder_inputs[0][0]']         \n",
      "                                                                                                  \n",
      " embedding_1 (Embedding)        (None, None, 256)    2812928     ['decoder_inputs[0][0]']         \n",
      "                                                                                                  \n",
      " lstm (LSTM)                    [(None, 256),        525312      ['embedding[0][0]']              \n",
      "                                 (None, 256),                                                     \n",
      "                                 (None, 256)]                                                     \n",
      "                                                                                                  \n",
      " lstm_1 (LSTM)                  [(None, None, 256),  525312      ['embedding_1[0][0]',            \n",
      "                                 (None, 256),                     'lstm[0][1]',                   \n",
      "                                 (None, 256)]                     'lstm[0][2]']                   \n",
      "                                                                                                  \n",
      " dense (Dense)                  (None, None, 10988)  2823916     ['lstm_1[0][0]']                 \n",
      "                                                                                                  \n",
      "==================================================================================================\n",
      "Total params: 8,364,780\n",
      "Trainable params: 8,364,780\n",
      "Non-trainable params: 0\n",
      "__________________________________________________________________________________________________\n"
     ]
    }
   ],
   "source": [
    "latent_dim=256\n",
    "\n",
    "word_model, encoder_states, encoder_inputs, dec_emb_layer, decoder_inputs, decoder_lstm, decoder_dense = build_model(\n",
    "    num_encoder_tokens=num_encoder_tokens,\n",
    "    num_decoder_tokens=num_decoder_tokens,\n",
    "    latent_dim=latent_dim,  # Latent dimensionality of the encoding space.\n",
    "    mname='word_model'\n",
    ")\n",
    "word_model.summary()"
   ]
  },
  {
   "cell_type": "code",
   "execution_count": 13,
   "id": "5dcf57a4-ae79-4bdf-8f2c-69c1bf41d7f7",
   "metadata": {
    "tags": []
   },
   "outputs": [
    {
     "data": {
      "image/png": "[encoded data removed]",
      "text/plain": [
       "<IPython.core.display.Image object>"
      ]
     },
     "execution_count": 13,
     "metadata": {},
     "output_type": "execute_result"
    }
   ],
   "source": [
    "plot_model(word_model, to_file='train_word_model.png', show_shapes=True)"
   ]
  },
  {
   "cell_type": "markdown",
   "id": "6de2be02-404d-4b3c-a8a4-3217618447b3",
   "metadata": {},
   "source": [
    "The code trains the word_model using fit_generator() with the specified number of epochs and batch size, using generate_batch() to load the data in batches. It also specifies the number of steps per epoch and validation steps. The training history is stored in the history variable."
   ]
  },
  {
   "cell_type": "code",
   "execution_count": 14,
   "id": "e58ffc29-188e-488c-a910-a7ca8fd919f0",
   "metadata": {
    "tags": []
   },
   "outputs": [
    {
     "name": "stdout",
     "output_type": "stream",
     "text": [
      "Epoch 1/100\n"
     ]
    },
    {
     "name": "stderr",
     "output_type": "stream",
     "text": [
      "<ipython-input-14-16afaf7e4b73>:6: UserWarning: `Model.fit_generator` is deprecated and will be removed in a future version. Please use `Model.fit`, which supports generators.\n",
      "  history = word_model.fit_generator(generator=generate_batch(X_train, y_train, batch_size=batch_size),\n"
     ]
    },
    {
     "name": "stdout",
     "output_type": "stream",
     "text": [
      "281/281 [==============================] - 73s 243ms/step - loss: 0.7583 - acc: 0.1777 - val_loss: 0.7099 - val_acc: 0.2006\n",
      "Epoch 2/100\n",
      "281/281 [==============================] - 70s 228ms/step - loss: 0.6711 - acc: 0.2165 - val_loss: 0.6645 - val_acc: 0.2322\n",
      "Epoch 3/100\n",
      "281/281 [==============================] - 70s 249ms/step - loss: 0.6302 - acc: 0.2396 - val_loss: 0.6427 - val_acc: 0.2476\n",
      "Epoch 4/100\n",
      "281/281 [==============================] - 75s 266ms/step - loss: 0.6010 - acc: 0.2545 - val_loss: 0.6282 - val_acc: 0.2565\n",
      "Epoch 5/100\n",
      "281/281 [==============================] - 73s 259ms/step - loss: 0.5781 - acc: 0.2659 - val_loss: 0.6188 - val_acc: 0.2622\n",
      "Epoch 6/100\n",
      "281/281 [==============================] - 82s 291ms/step - loss: 0.5603 - acc: 0.2746 - val_loss: 0.6131 - val_acc: 0.2683\n",
      "Epoch 7/100\n",
      "281/281 [==============================] - 76s 269ms/step - loss: 0.5452 - acc: 0.2827 - val_loss: 0.6117 - val_acc: 0.2734\n",
      "Epoch 8/100\n",
      "281/281 [==============================] - 75s 268ms/step - loss: 0.5322 - acc: 0.2899 - val_loss: 0.6081 - val_acc: 0.2765\n",
      "Epoch 9/100\n",
      "281/281 [==============================] - 75s 266ms/step - loss: 0.5205 - acc: 0.2966 - val_loss: 0.6065 - val_acc: 0.2767\n",
      "Epoch 10/100\n",
      "281/281 [==============================] - 82s 294ms/step - loss: 0.5096 - acc: 0.3030 - val_loss: 0.6055 - val_acc: 0.2778\n",
      "Epoch 11/100\n",
      "281/281 [==============================] - 83s 296ms/step - loss: 0.4994 - acc: 0.3109 - val_loss: 0.6038 - val_acc: 0.2772\n",
      "Epoch 12/100\n",
      "281/281 [==============================] - 86s 306ms/step - loss: 0.4894 - acc: 0.3173 - val_loss: 0.6027 - val_acc: 0.2803\n",
      "Epoch 13/100\n",
      "281/281 [==============================] - 87s 310ms/step - loss: 0.4800 - acc: 0.3251 - val_loss: 0.6036 - val_acc: 0.2807\n",
      "Epoch 14/100\n",
      "281/281 [==============================] - 90s 322ms/step - loss: 0.4712 - acc: 0.3328 - val_loss: 0.6044 - val_acc: 0.2835\n",
      "Epoch 15/100\n",
      "281/281 [==============================] - 95s 340ms/step - loss: 0.4632 - acc: 0.3400 - val_loss: 0.6048 - val_acc: 0.2798\n",
      "Epoch 16/100\n",
      "281/281 [==============================] - 98s 349ms/step - loss: 0.4551 - acc: 0.3474 - val_loss: 0.6111 - val_acc: 0.2693\n",
      "Epoch 17/100\n",
      "281/281 [==============================] - 95s 337ms/step - loss: 0.4474 - acc: 0.3550 - val_loss: 0.6105 - val_acc: 0.2714\n",
      "Epoch 18/100\n",
      "281/281 [==============================] - 95s 337ms/step - loss: 0.4395 - acc: 0.3633 - val_loss: 0.6126 - val_acc: 0.2744\n",
      "Epoch 19/100\n",
      "281/281 [==============================] - 102s 361ms/step - loss: 0.4319 - acc: 0.3718 - val_loss: 0.6168 - val_acc: 0.2700\n",
      "Epoch 20/100\n",
      "281/281 [==============================] - 88s 313ms/step - loss: 0.4238 - acc: 0.3803 - val_loss: 0.6174 - val_acc: 0.2662\n",
      "Epoch 21/100\n",
      "281/281 [==============================] - 87s 309ms/step - loss: 0.4158 - acc: 0.3899 - val_loss: 0.6213 - val_acc: 0.2714\n",
      "Epoch 22/100\n",
      "281/281 [==============================] - 96s 342ms/step - loss: 0.4087 - acc: 0.3988 - val_loss: 0.6248 - val_acc: 0.2664\n",
      "Epoch 23/100\n",
      "281/281 [==============================] - 96s 340ms/step - loss: 0.3993 - acc: 0.4116 - val_loss: 0.6154 - val_acc: 0.2824\n",
      "Epoch 24/100\n",
      "281/281 [==============================] - 88s 313ms/step - loss: 0.3835 - acc: 0.4331 - val_loss: 0.6114 - val_acc: 0.2892\n",
      "Epoch 25/100\n",
      "281/281 [==============================] - 82s 291ms/step - loss: 0.3711 - acc: 0.4470 - val_loss: 0.6096 - val_acc: 0.2884\n",
      "Epoch 26/100\n",
      "281/281 [==============================] - 93s 330ms/step - loss: 0.3593 - acc: 0.4621 - val_loss: 0.6090 - val_acc: 0.2992\n",
      "Epoch 27/100\n",
      "281/281 [==============================] - 85s 301ms/step - loss: 0.3488 - acc: 0.4776 - val_loss: 0.6087 - val_acc: 0.3035\n",
      "Epoch 28/100\n",
      "281/281 [==============================] - 87s 309ms/step - loss: 0.3385 - acc: 0.4947 - val_loss: 0.6093 - val_acc: 0.3033\n",
      "Epoch 29/100\n",
      "281/281 [==============================] - 84s 298ms/step - loss: 0.3284 - acc: 0.5104 - val_loss: 0.6114 - val_acc: 0.3074\n",
      "Epoch 30/100\n",
      "281/281 [==============================] - 83s 294ms/step - loss: 0.3187 - acc: 0.5239 - val_loss: 0.6142 - val_acc: 0.3064\n",
      "Epoch 31/100\n",
      "281/281 [==============================] - 87s 309ms/step - loss: 0.3096 - acc: 0.5388 - val_loss: 0.6166 - val_acc: 0.3114\n",
      "Epoch 32/100\n",
      "281/281 [==============================] - 82s 291ms/step - loss: 0.3013 - acc: 0.5521 - val_loss: 0.6200 - val_acc: 0.3187\n",
      "Epoch 33/100\n",
      "281/281 [==============================] - 83s 296ms/step - loss: 0.2930 - acc: 0.5651 - val_loss: 0.6201 - val_acc: 0.3158\n",
      "Epoch 34/100\n",
      "281/281 [==============================] - 83s 296ms/step - loss: 0.2852 - acc: 0.5782 - val_loss: 0.6226 - val_acc: 0.3132\n",
      "Epoch 35/100\n",
      "281/281 [==============================] - 81s 289ms/step - loss: 0.2775 - acc: 0.5889 - val_loss: 0.6252 - val_acc: 0.3165\n",
      "Epoch 36/100\n",
      "281/281 [==============================] - 88s 312ms/step - loss: 0.2701 - acc: 0.6002 - val_loss: 0.6298 - val_acc: 0.3124\n",
      "Epoch 37/100\n",
      "281/281 [==============================] - 85s 302ms/step - loss: 0.2629 - acc: 0.6105 - val_loss: 0.6320 - val_acc: 0.3188\n",
      "Epoch 38/100\n",
      "281/281 [==============================] - 90s 320ms/step - loss: 0.2561 - acc: 0.6217 - val_loss: 0.6363 - val_acc: 0.3187\n",
      "Epoch 39/100\n",
      "281/281 [==============================] - 100s 355ms/step - loss: 0.2493 - acc: 0.6329 - val_loss: 0.6396 - val_acc: 0.3230\n",
      "Epoch 40/100\n",
      "281/281 [==============================] - 113s 401ms/step - loss: 0.2426 - acc: 0.6431 - val_loss: 0.6395 - val_acc: 0.3216\n",
      "Epoch 41/100\n",
      "281/281 [==============================] - 100s 358ms/step - loss: 0.2358 - acc: 0.6527 - val_loss: 0.6393 - val_acc: 0.3250\n",
      "Epoch 42/100\n",
      "281/281 [==============================] - 98s 350ms/step - loss: 0.2297 - acc: 0.6605 - val_loss: 0.6429 - val_acc: 0.3245\n",
      "Epoch 43/100\n",
      "281/281 [==============================] - 85s 303ms/step - loss: 0.2234 - acc: 0.6711 - val_loss: 0.6481 - val_acc: 0.3259\n",
      "Epoch 44/100\n",
      "281/281 [==============================] - 90s 321ms/step - loss: 0.2175 - acc: 0.6795 - val_loss: 0.6500 - val_acc: 0.3261\n",
      "Epoch 45/100\n",
      "281/281 [==============================] - 90s 319ms/step - loss: 0.2118 - acc: 0.6875 - val_loss: 0.6558 - val_acc: 0.3247\n",
      "Epoch 46/100\n",
      "281/281 [==============================] - 89s 316ms/step - loss: 0.2064 - acc: 0.6955 - val_loss: 0.6590 - val_acc: 0.3241\n",
      "Epoch 47/100\n",
      "281/281 [==============================] - 88s 315ms/step - loss: 0.2008 - acc: 0.7046 - val_loss: 0.6590 - val_acc: 0.3242\n",
      "Epoch 48/100\n",
      "281/281 [==============================] - 93s 333ms/step - loss: 0.1960 - acc: 0.7105 - val_loss: 0.6644 - val_acc: 0.3221\n",
      "Epoch 49/100\n",
      "281/281 [==============================] - 85s 302ms/step - loss: 0.1909 - acc: 0.7179 - val_loss: 0.6693 - val_acc: 0.3221\n",
      "Epoch 50/100\n",
      "281/281 [==============================] - 92s 328ms/step - loss: 0.1859 - acc: 0.7257 - val_loss: 0.6702 - val_acc: 0.3195\n",
      "Epoch 51/100\n",
      "281/281 [==============================] - 89s 318ms/step - loss: 0.1815 - acc: 0.7319 - val_loss: 0.6743 - val_acc: 0.3168\n",
      "Epoch 52/100\n",
      "281/281 [==============================] - 95s 339ms/step - loss: 0.1773 - acc: 0.7383 - val_loss: 0.6773 - val_acc: 0.3190\n",
      "Epoch 53/100\n",
      "281/281 [==============================] - 90s 321ms/step - loss: 0.1726 - acc: 0.7449 - val_loss: 0.6788 - val_acc: 0.3198\n",
      "Epoch 54/100\n",
      "281/281 [==============================] - 89s 318ms/step - loss: 0.1685 - acc: 0.7517 - val_loss: 0.6787 - val_acc: 0.3251\n",
      "Epoch 55/100\n",
      "281/281 [==============================] - 92s 326ms/step - loss: 0.1648 - acc: 0.7563 - val_loss: 0.6811 - val_acc: 0.3210\n",
      "Epoch 56/100\n",
      "281/281 [==============================] - 91s 325ms/step - loss: 0.1606 - acc: 0.7624 - val_loss: 0.6882 - val_acc: 0.3187\n",
      "Epoch 57/100\n",
      "281/281 [==============================] - 81s 289ms/step - loss: 0.1564 - acc: 0.7698 - val_loss: 0.6886 - val_acc: 0.3207\n",
      "Epoch 58/100\n",
      "281/281 [==============================] - 78s 279ms/step - loss: 0.1524 - acc: 0.7756 - val_loss: 0.6889 - val_acc: 0.3224\n",
      "Epoch 59/100\n",
      "281/281 [==============================] - 79s 282ms/step - loss: 0.1483 - acc: 0.7821 - val_loss: 0.6954 - val_acc: 0.3183\n",
      "Epoch 60/100\n",
      "281/281 [==============================] - 82s 292ms/step - loss: 0.1449 - acc: 0.7871 - val_loss: 0.6994 - val_acc: 0.3187\n",
      "Epoch 61/100\n",
      "281/281 [==============================] - 83s 297ms/step - loss: 0.1415 - acc: 0.7920 - val_loss: 0.7021 - val_acc: 0.3201\n",
      "Epoch 62/100\n",
      "281/281 [==============================] - 85s 303ms/step - loss: 0.1379 - acc: 0.7985 - val_loss: 0.7068 - val_acc: 0.3175\n",
      "Epoch 63/100\n",
      "281/281 [==============================] - 86s 308ms/step - loss: 0.1347 - acc: 0.8022 - val_loss: 0.7116 - val_acc: 0.3197\n",
      "Epoch 64/100\n",
      "281/281 [==============================] - 90s 322ms/step - loss: 0.1318 - acc: 0.8063 - val_loss: 0.7140 - val_acc: 0.3168\n",
      "Epoch 65/100\n",
      "281/281 [==============================] - 86s 306ms/step - loss: 0.1287 - acc: 0.8116 - val_loss: 0.7178 - val_acc: 0.3153\n",
      "Epoch 66/100\n",
      "281/281 [==============================] - 96s 340ms/step - loss: 0.1256 - acc: 0.8169 - val_loss: 0.7149 - val_acc: 0.3203\n",
      "Epoch 67/100\n",
      "281/281 [==============================] - 94s 333ms/step - loss: 0.1229 - acc: 0.8199 - val_loss: 0.7216 - val_acc: 0.3160\n",
      "Epoch 68/100\n",
      "281/281 [==============================] - 90s 320ms/step - loss: 0.1196 - acc: 0.8259 - val_loss: 0.7222 - val_acc: 0.3205\n",
      "Epoch 69/100\n",
      "281/281 [==============================] - 93s 330ms/step - loss: 0.1164 - acc: 0.8304 - val_loss: 0.7261 - val_acc: 0.3166\n",
      "Epoch 70/100\n",
      "281/281 [==============================] - 88s 314ms/step - loss: 0.1142 - acc: 0.8342 - val_loss: 0.7297 - val_acc: 0.3198\n",
      "Epoch 71/100\n",
      "281/281 [==============================] - 80s 284ms/step - loss: 0.1114 - acc: 0.8380 - val_loss: 0.7302 - val_acc: 0.3189\n",
      "Epoch 72/100\n",
      "281/281 [==============================] - 77s 275ms/step - loss: 0.1088 - acc: 0.8435 - val_loss: 0.7321 - val_acc: 0.3211\n",
      "Epoch 73/100\n",
      "281/281 [==============================] - 79s 283ms/step - loss: 0.1065 - acc: 0.8468 - val_loss: 0.7343 - val_acc: 0.3209\n",
      "Epoch 74/100\n",
      "281/281 [==============================] - 78s 277ms/step - loss: 0.1044 - acc: 0.8495 - val_loss: 0.7378 - val_acc: 0.3220\n",
      "Epoch 75/100\n",
      "281/281 [==============================] - 81s 288ms/step - loss: 0.1017 - acc: 0.8539 - val_loss: 0.7386 - val_acc: 0.3238\n",
      "Epoch 76/100\n",
      "281/281 [==============================] - 80s 284ms/step - loss: 0.0998 - acc: 0.8567 - val_loss: 0.7441 - val_acc: 0.3197\n",
      "Epoch 77/100\n",
      "281/281 [==============================] - 87s 308ms/step - loss: 0.0971 - acc: 0.8609 - val_loss: 0.7465 - val_acc: 0.3208\n",
      "Epoch 78/100\n",
      "281/281 [==============================] - 83s 295ms/step - loss: 0.0950 - acc: 0.8643 - val_loss: 0.7538 - val_acc: 0.3173\n",
      "Epoch 79/100\n",
      "281/281 [==============================] - 82s 293ms/step - loss: 0.0926 - acc: 0.8688 - val_loss: 0.7566 - val_acc: 0.3167\n",
      "Epoch 80/100\n",
      "281/281 [==============================] - 86s 307ms/step - loss: 0.0908 - acc: 0.8717 - val_loss: 0.7600 - val_acc: 0.3189\n",
      "Epoch 81/100\n",
      "281/281 [==============================] - 87s 311ms/step - loss: 0.0889 - acc: 0.8737 - val_loss: 0.7614 - val_acc: 0.3192\n",
      "Epoch 82/100\n",
      "281/281 [==============================] - 90s 321ms/step - loss: 0.0869 - acc: 0.8775 - val_loss: 0.7615 - val_acc: 0.3164\n",
      "Epoch 83/100\n",
      "281/281 [==============================] - 95s 336ms/step - loss: 0.0845 - acc: 0.8818 - val_loss: 0.7700 - val_acc: 0.3117\n",
      "Epoch 84/100\n",
      "281/281 [==============================] - 94s 335ms/step - loss: 0.0824 - acc: 0.8847 - val_loss: 0.7716 - val_acc: 0.3129\n",
      "Epoch 85/100\n",
      "281/281 [==============================] - 96s 343ms/step - loss: 0.0811 - acc: 0.8870 - val_loss: 0.7723 - val_acc: 0.3152\n",
      "Epoch 86/100\n",
      "281/281 [==============================] - 99s 354ms/step - loss: 0.0796 - acc: 0.8896 - val_loss: 0.7767 - val_acc: 0.3150\n",
      "Epoch 87/100\n",
      "281/281 [==============================] - 108s 385ms/step - loss: 0.0772 - acc: 0.8937 - val_loss: 0.7760 - val_acc: 0.3190\n",
      "Epoch 88/100\n",
      "281/281 [==============================] - 103s 365ms/step - loss: 0.0759 - acc: 0.8947 - val_loss: 0.7785 - val_acc: 0.3174\n",
      "Epoch 89/100\n",
      "281/281 [==============================] - 109s 388ms/step - loss: 0.0744 - acc: 0.8982 - val_loss: 0.7808 - val_acc: 0.3199\n",
      "Epoch 90/100\n",
      "281/281 [==============================] - 105s 374ms/step - loss: 0.0727 - acc: 0.9005 - val_loss: 0.7849 - val_acc: 0.3166\n",
      "Epoch 91/100\n",
      "281/281 [==============================] - 103s 364ms/step - loss: 0.0710 - acc: 0.9029 - val_loss: 0.7866 - val_acc: 0.3197\n",
      "Epoch 92/100\n",
      "281/281 [==============================] - 111s 394ms/step - loss: 0.0702 - acc: 0.9032 - val_loss: 0.7891 - val_acc: 0.3203\n",
      "Epoch 93/100\n",
      "281/281 [==============================] - 113s 401ms/step - loss: 0.0686 - acc: 0.9062 - val_loss: 0.7964 - val_acc: 0.3108\n",
      "Epoch 94/100\n",
      "281/281 [==============================] - 121s 430ms/step - loss: 0.0669 - acc: 0.9096 - val_loss: 0.7968 - val_acc: 0.3137\n",
      "Epoch 95/100\n",
      "281/281 [==============================] - 121s 429ms/step - loss: 0.0655 - acc: 0.9114 - val_loss: 0.7989 - val_acc: 0.3145\n",
      "Epoch 96/100\n",
      "281/281 [==============================] - 120s 428ms/step - loss: 0.0638 - acc: 0.9143 - val_loss: 0.8024 - val_acc: 0.3165\n",
      "Epoch 97/100\n",
      "281/281 [==============================] - 105s 375ms/step - loss: 0.0625 - acc: 0.9164 - val_loss: 0.8091 - val_acc: 0.3097\n",
      "Epoch 98/100\n",
      "281/281 [==============================] - 105s 372ms/step - loss: 0.0613 - acc: 0.9180 - val_loss: 0.8044 - val_acc: 0.3157\n",
      "Epoch 99/100\n",
      "281/281 [==============================] - 103s 368ms/step - loss: 0.0603 - acc: 0.9196 - val_loss: 0.8080 - val_acc: 0.3173\n",
      "Epoch 100/100\n",
      "281/281 [==============================] - 102s 362ms/step - loss: 0.0586 - acc: 0.9228 - val_loss: 0.8132 - val_acc: 0.3148\n"
     ]
    }
   ],
   "source": [
    "train_samples = len(X_train)\n",
    "val_samples = len(X_test)\n",
    "batch_size = 64\n",
    "epochs = 100\n",
    "\n",
    "history = word_model.fit_generator(generator=generate_batch(X_train, y_train, batch_size=batch_size),\n",
    "                    steps_per_epoch=train_samples//batch_size,\n",
    "                    epochs=epochs,\n",
    "                    validation_data=generate_batch(X_test, y_test, batch_size=batch_size),\n",
    "                    validation_steps=val_samples//batch_size\n",
    "        )"
   ]
  },
  {
   "cell_type": "markdown",
   "id": "76276a38-928e-4882-9180-9db694bb266f",
   "metadata": {
    "tags": []
   },
   "source": [
    "The save_model function saves the trained word_model as JSON and weights to separate files."
   ]
  },
  {
   "cell_type": "code",
   "execution_count": 15,
   "id": "a3a9a3aa-700c-4884-8051-e4db370da133",
   "metadata": {
    "tags": []
   },
   "outputs": [],
   "source": [
    "\n",
    "# save_model\n",
    "def save_model(word_model):\n",
    "    model_json = word_model.to_json()\n",
    "    with open(\"model_2.json\", \"w\") as json_file:\n",
    "        json_file.write(model_json)\n",
    "\n",
    "    # serialize weights to HDF5\n",
    "    word_model.save_weights(\"model_weight_5.h5\")\n",
    "    print(\"Saved word model to disk\")\n"
   ]
  },
  {
   "cell_type": "code",
   "execution_count": 16,
   "id": "cc3a40aa-ee53-4467-bc68-7fe70bbb41ac",
   "metadata": {
    "tags": []
   },
   "outputs": [
    {
     "name": "stdout",
     "output_type": "stream",
     "text": [
      "Saved word model to disk\n"
     ]
    }
   ],
   "source": [
    "save_model(word_model)"
   ]
  },
  {
   "cell_type": "markdown",
   "id": "5f58c1c2-04ae-4642-ad34-a355ab6e19b7",
   "metadata": {
    "tags": []
   },
   "source": [
    "This code block loads the saved model architecture and assigns the saved weights to the model."
   ]
  },
  {
   "cell_type": "code",
   "execution_count": 17,
   "id": "3da1f42b-ebc3-437d-9488-e0a416a47f03",
   "metadata": {
    "tags": []
   },
   "outputs": [],
   "source": [
    "\n",
    "# loading the model architecture and asigning the weights\n",
    "def load_model():\n",
    "    json_file = open('model_2.json', 'r')\n",
    "    loaded_model_json = json_file.read()\n",
    "    json_file.close()\n",
    "    model_loaded = model_from_json(loaded_model_json)\n",
    "    # load weights into new model\n",
    "    model_loaded.load_weights(\"model_weight_5.h5\")\n",
    "    return model_loaded\n",
    "    \n"
   ]
  },
  {
   "cell_type": "code",
   "execution_count": 18,
   "id": "e5306347-d2f8-4927-8215-42e85bb37106",
   "metadata": {
    "tags": []
   },
   "outputs": [],
   "source": [
    "model_loaded = load_model()"
   ]
  },
  {
   "cell_type": "markdown",
   "id": "6481af80-eb7e-426f-a5be-33e8d46e38f3",
   "metadata": {},
   "source": [
    "### Plot Model"
   ]
  },
  {
   "cell_type": "markdown",
   "id": "dde9ba23-70f5-4da7-81ae-5a9cac8aeba7",
   "metadata": {},
   "source": [
    "The plot_history_models function takes a list of trained model histories and plots the training and validation loss/accuracy for each model over epochs. It also sets the x and y-axis labels and legend."
   ]
  },
  {
   "cell_type": "code",
   "execution_count": 19,
   "id": "3877efbf-f5d0-4f28-a0ef-c405ec492488",
   "metadata": {
    "tags": []
   },
   "outputs": [],
   "source": [
    "def plot_history_models(histories, key='loss', ylim=[0, 1]):\n",
    "    plt.figure(figsize=(7,5), dpi=150)\n",
    "    for name, history in histories:\n",
    "        val = plt.plot(history.epoch, history.history['val_'+key],\n",
    "            '--', label=name.title()+' Val')\n",
    "        plt.plot(\n",
    "            history.epoch, history.history[key], color=val[0].get_color(), label=name.title()+' Train')\n",
    "    \n",
    "    plt.xlabel('Epochs')\n",
    "    plt.ylabel(key.replace('_',' ').title())\n",
    "    plt.legend()\n",
    "    plt.xlim([0,max(history.epoch)])\n",
    "    plt.ylim(ylim)\n",
    "    plt.grid()"
   ]
  },
  {
   "cell_type": "code",
   "execution_count": 20,
   "id": "977052b9-4bc0-4acb-ac79-d72225c876cc",
   "metadata": {
    "tags": []
   },
   "outputs": [
    {
     "data": {
      "image/png": "[encoded data removed]",
      "text/plain": [
       "<Figure size 1050x750 with 1 Axes>"
      ]
     },
     "metadata": {
      "needs_background": "light"
     },
     "output_type": "display_data"
    },
    {
     "data": {
      "image/png": "[encoded data removed]",
      "text/plain": [
       "<Figure size 1050x750 with 1 Axes>"
      ]
     },
     "metadata": {
      "needs_background": "light"
     },
     "output_type": "display_data"
    }
   ],
   "source": [
    "histories_to_plot = [('word_model', history)]\n",
    "plot_history_models(histories_to_plot, key='loss', ylim=[0, 2.0])\n",
    "plot_history_models(histories_to_plot, key='acc', ylim=[0, 1.0])"
   ]
  },
  {
   "cell_type": "markdown",
   "id": "39d93970-0918-4347-bcaf-3de58cb516f2",
   "metadata": {},
   "source": [
    "The current situation indicates that the model is overfitting since the training accuracy is higher than the validation accuracy. However, this is primarily due to limitations in computing resources, and we had to use a limited dataset of 20,000 samples, which was split into training and testing sets. To enhance the model's performance, one solution could be to increase the sample size, which could enable the model to identify more intricate patterns and relationships in the data. Alternatively, we could also explore optimizing the model's architecture or hyperparameters to improve its performance without necessarily requiring a larger dataset."
   ]
  },
  {
   "cell_type": "markdown",
   "id": "58bc55cc-0a72-45a0-83b0-79e328f2add9",
   "metadata": {},
   "source": [
    "### Encoder Decoder"
   ]
  },
  {
   "cell_type": "markdown",
   "id": "4295b7a4-876e-4b87-963b-a91871ec4756",
   "metadata": {},
   "source": [
    "The code below sets up the decoder for the sequence-to-sequence model. It defines a separate model for the encoder and decoder parts of the model. The decoder takes the encoder's output as input and produces a sequence of outputs. It uses the LSTM layer to generate the sequence and a dense softmax layer to generate probability distribution over the target vocabulary. The decoder is trained to predict the next word in the sequence based on the previous words and the encoder's output."
   ]
  },
  {
   "cell_type": "code",
   "execution_count": 21,
   "id": "68287681-1f8c-4eb2-ab7b-ade30876eee3",
   "metadata": {
    "tags": []
   },
   "outputs": [
    {
     "name": "stdout",
     "output_type": "stream",
     "text": [
      "Model: \"word_model\"\n",
      "_________________________________________________________________\n",
      " Layer (type)                Output Shape              Param #   \n",
      "=================================================================\n",
      " encoder_inputs (InputLayer)  [(None, None)]           0         \n",
      "                                                                 \n",
      " embedding (Embedding)       (None, None, 256)         1677312   \n",
      "                                                                 \n",
      " lstm (LSTM)                 [(None, 256),             525312    \n",
      "                              (None, 256),                       \n",
      "                              (None, 256)]                       \n",
      "                                                                 \n",
      "=================================================================\n",
      "Total params: 2,202,624\n",
      "Trainable params: 2,202,624\n",
      "Non-trainable params: 0\n",
      "_________________________________________________________________\n"
     ]
    }
   ],
   "source": [
    "# Encode the input sequence to get the \"thought vectors\"\n",
    "encoder_model = Model(encoder_inputs, encoder_states, name='word_model')\n",
    "encoder_model.summary()\n",
    "\n",
    "# Decoder setup\n",
    "# Below tensors will hold the states of the previous time step\n",
    "decoder_state_input_h = Input(shape=(latent_dim,))\n",
    "decoder_state_input_c = Input(shape=(latent_dim,))\n",
    "decoder_states_inputs = [decoder_state_input_h, decoder_state_input_c]\n",
    "\n",
    "# Get the embeddings of the decoder sequence\n",
    "dec_emb2= dec_emb_layer(decoder_inputs)\n",
    "\n",
    "# To predict the next word in the sequence, set the initial states to the states from the previous time step\n",
    "decoder_outputs2, state_h2, state_c2 = decoder_lstm(dec_emb2, initial_state=decoder_states_inputs)\n",
    "decoder_states2 = [state_h2, state_c2]\n",
    "\n",
    "# A dense softmax layer to generate prob dist. over the target vocabulary\n",
    "decoder_outputs2 = decoder_dense(decoder_outputs2)\n",
    "\n",
    "# Final decoder model\n",
    "decoder_model = Model(\n",
    "    [decoder_inputs] + decoder_states_inputs,\n",
    "    [decoder_outputs2] + decoder_states2)\n"
   ]
  },
  {
   "cell_type": "markdown",
   "id": "0ba8996f-9b1b-4984-8578-a2b8553ccc94",
   "metadata": {},
   "source": [
    "This function predicts the translation of an input sentence by encoding it as state vectors, generating a target sequence, and sampling output tokens until the stop condition is reached or the maximum length is exceeded."
   ]
  },
  {
   "cell_type": "code",
   "execution_count": 22,
   "id": "00f00067-89b1-4bb2-84cb-7b42f37f25ca",
   "metadata": {
    "tags": []
   },
   "outputs": [],
   "source": [
    "# Code to predict the input sentences translation\n",
    "def decode_sequence(input_seq):\n",
    "    # Encode the input as state vectors.\n",
    "    states_value = encoder_model.predict(input_seq)\n",
    "    \n",
    "    # Generate empty target sequence of length 1.\n",
    "    target_seq = np.zeros((1,1))\n",
    "    \n",
    "    # Populate the first character of target sequence with the start character.\n",
    "    target_seq[0, 0] = target_token_index['START_']\n",
    "    #print(\"target_seq:=>\",target_seq)\n",
    "    \n",
    "    # Sampling loop for a batch of sequences\n",
    "    # (to simplify, here we assume a batch of size 1).\n",
    "    stop_condition = False\n",
    "    decoded_sentence = ''\n",
    "    \n",
    "    while not stop_condition:\n",
    "        output_tokens, h, c = decoder_model.predict([target_seq] + states_value)\n",
    "        # Sample a token\n",
    "        sampled_token_index = np.argmax(output_tokens[0, -1, :])\n",
    "        sampled_char = reverse_target_token_index[sampled_token_index]\n",
    "        decoded_sentence += ' '+sampled_char\n",
    "        \n",
    "        # Exit condition: either hit max length or find stop token.\n",
    "        if (sampled_char == '_END' or len(decoded_sentence) > 50):\n",
    "            stop_condition = True\n",
    "        \n",
    "        # Update the target sequence (of length 1).\n",
    "        target_seq = np.zeros((1,1))\n",
    "        target_seq[0, 0] = sampled_token_index\n",
    "        \n",
    "        # Update states\n",
    "        states_value = [h, c]\n",
    "    \n",
    "    return decoded_sentence"
   ]
  },
  {
   "cell_type": "code",
   "execution_count": 23,
   "id": "25e27f7a-30e1-49d3-9349-3c74574fd66f",
   "metadata": {
    "tags": []
   },
   "outputs": [],
   "source": [
    "X_test = X_test.reset_index()\n",
    "y_test = y_test.reset_index()"
   ]
  },
  {
   "cell_type": "markdown",
   "id": "5ace9adf-4faf-49c8-910a-2daa448c2a65",
   "metadata": {},
   "source": [
    "The code predicts translations for some test sentences using the encoder-decoder model, and prints both the original and predicted translations"
   ]
  },
  {
   "cell_type": "code",
   "execution_count": 24,
   "id": "3bb1b69d-3c78-4645-b26a-fea43558109d",
   "metadata": {
    "tags": []
   },
   "outputs": [
    {
     "name": "stdout",
     "output_type": "stream",
     "text": [
      "1/1 [==============================] - 2s 2s/step\n",
      "1/1 [==============================] - 1s 1s/step\n",
      "1/1 [==============================] - 0s 20ms/step\n",
      "1/1 [==============================] - 0s 18ms/step\n",
      "1/1 [==============================] - 0s 19ms/step\n",
      "1/1 [==============================] - 0s 15ms/step\n",
      "1/1 [==============================] - 0s 14ms/step\n",
      "1/1 [==============================] - 0s 16ms/step\n",
      "1/1 [==============================] - 0s 13ms/step\n",
      "1/1 [==============================] - 0s 43ms/step\n",
      "1/1 [==============================] - 0s 19ms/step\n",
      "1/1 [==============================] - 0s 18ms/step\n",
      "1/1 [==============================] - 0s 15ms/step\n",
      "Test sentence:  1\n",
      "sentence:  theres no need to decide just yet\n",
      "original translate:  inutile de se décider tout de suite \n",
      "predicted Translate:  la vie est désolée de ne vous pas comme vous êtes sou\n",
      "====================================================================================================\n",
      "1/1 [==============================] - 0s 23ms/step\n",
      "1/1 [==============================] - 0s 13ms/step\n",
      "1/1 [==============================] - 0s 13ms/step\n",
      "1/1 [==============================] - 0s 13ms/step\n",
      "1/1 [==============================] - 0s 14ms/step\n",
      "1/1 [==============================] - 0s 20ms/step\n",
      "1/1 [==============================] - 0s 20ms/step\n",
      "1/1 [==============================] - 0s 15ms/step\n",
      "1/1 [==============================] - 0s 13ms/step\n",
      "1/1 [==============================] - 0s 14ms/step\n",
      "Test sentence:  2\n",
      "sentence:  you never told me that yes i did\n",
      "original translate:  « vous ne mavez jamais dit ça  » « si je lai dit  » \n",
      "predicted Translate:  il y a une carte dans cette voiture \n",
      "====================================================================================================\n",
      "1/1 [==============================] - 0s 21ms/step\n",
      "1/1 [==============================] - 0s 14ms/step\n",
      "1/1 [==============================] - 0s 15ms/step\n",
      "1/1 [==============================] - 0s 13ms/step\n",
      "1/1 [==============================] - 0s 13ms/step\n",
      "1/1 [==============================] - 0s 13ms/step\n",
      "Test sentence:  3\n",
      "sentence:  neither of those things happened\n",
      "original translate:  aucune de ces choses ne sest produite \n",
      "predicted Translate:  donnezmoi la même chose \n",
      "====================================================================================================\n",
      "1/1 [==============================] - 0s 18ms/step\n",
      "1/1 [==============================] - 0s 14ms/step\n",
      "1/1 [==============================] - 0s 15ms/step\n",
      "1/1 [==============================] - 0s 14ms/step\n",
      "1/1 [==============================] - 0s 13ms/step\n",
      "1/1 [==============================] - 0s 14ms/step\n",
      "1/1 [==============================] - 0s 13ms/step\n",
      "1/1 [==============================] - 0s 13ms/step\n",
      "1/1 [==============================] - 0s 13ms/step\n",
      "1/1 [==============================] - 0s 15ms/step\n",
      "1/1 [==============================] - 0s 13ms/step\n",
      "1/1 [==============================] - 0s 13ms/step\n",
      "1/1 [==============================] - 0s 14ms/step\n",
      "Test sentence:  4\n",
      "sentence:  i dont have any trouble believing that\n",
      "original translate:  je nai aucun problème à croire ça \n",
      "predicted Translate:  « le temps grand » « non je te pense » \n",
      "====================================================================================================\n",
      "1/1 [==============================] - 0s 20ms/step\n",
      "1/1 [==============================] - 0s 13ms/step\n",
      "1/1 [==============================] - 0s 13ms/step\n",
      "1/1 [==============================] - 0s 13ms/step\n",
      "1/1 [==============================] - 0s 13ms/step\n",
      "1/1 [==============================] - 0s 12ms/step\n",
      "1/1 [==============================] - 0s 13ms/step\n",
      "Test sentence:  5\n",
      "sentence:  well someday make the world a better place\n",
      "original translate:  un jour nous ferons du monde un meilleur endroit \n",
      "predicted Translate:  ne fais pas de bruit \n",
      "====================================================================================================\n",
      "1/1 [==============================] - 0s 19ms/step\n",
      "1/1 [==============================] - 0s 13ms/step\n",
      "1/1 [==============================] - 0s 14ms/step\n",
      "1/1 [==============================] - 0s 14ms/step\n",
      "1/1 [==============================] - 0s 13ms/step\n",
      "1/1 [==============================] - 0s 13ms/step\n",
      "1/1 [==============================] - 0s 14ms/step\n",
      "1/1 [==============================] - 0s 14ms/step\n",
      "1/1 [==============================] - 0s 14ms/step\n",
      "1/1 [==============================] - 0s 13ms/step\n",
      "1/1 [==============================] - 0s 12ms/step\n",
      "Test sentence:  6\n",
      "sentence:  i wish i could remember where i left my umbrella\n",
      "original translate:  jaimerais pouvoir me rappeler où jai laissé mon parapluie \n",
      "predicted Translate:  tu es en jour tout à savezvous un seul \n",
      "====================================================================================================\n",
      "1/1 [==============================] - 0s 17ms/step\n",
      "1/1 [==============================] - 0s 13ms/step\n",
      "Test sentence:  7\n",
      "sentence:  things didnt go as planned\n",
      "original translate:  les choses ne se sont pas déroulées comme prévu \n",
      "predicted Translate:  \n",
      "====================================================================================================\n",
      "1/1 [==============================] - 0s 17ms/step\n",
      "1/1 [==============================] - 0s 15ms/step\n",
      "1/1 [==============================] - 0s 14ms/step\n",
      "1/1 [==============================] - 0s 13ms/step\n",
      "1/1 [==============================] - 0s 13ms/step\n",
      "1/1 [==============================] - 0s 13ms/step\n",
      "1/1 [==============================] - 0s 13ms/step\n",
      "1/1 [==============================] - 0s 13ms/step\n",
      "1/1 [==============================] - 0s 13ms/step\n",
      "1/1 [==============================] - 0s 13ms/step\n",
      "Test sentence:  8\n",
      "sentence:  we need more synergy what does that mean\n",
      "original translate:  « il nous faut plus de synergie  » « questce que ça veut dire  » \n",
      "predicted Translate:  se pourrait une fille récemment vous pouvez avoir f\n",
      "====================================================================================================\n",
      "1/1 [==============================] - 0s 19ms/step\n",
      "1/1 [==============================] - 0s 14ms/step\n",
      "1/1 [==============================] - 0s 14ms/step\n",
      "1/1 [==============================] - 0s 13ms/step\n",
      "1/1 [==============================] - 0s 13ms/step\n",
      "1/1 [==============================] - 0s 13ms/step\n",
      "1/1 [==============================] - 0s 13ms/step\n",
      "1/1 [==============================] - 0s 13ms/step\n",
      "1/1 [==============================] - 0s 13ms/step\n",
      "1/1 [==============================] - 0s 13ms/step\n",
      "1/1 [==============================] - 0s 13ms/step\n",
      "1/1 [==============================] - 0s 14ms/step\n",
      "1/1 [==============================] - 0s 15ms/step\n",
      "1/1 [==============================] - 0s 14ms/step\n",
      "Test sentence:  9\n",
      "sentence:  he doesnt know what hes talking about\n",
      "original translate:  il ne sait pas de quoi il parle \n",
      "predicted Translate:  ma mère a été à tai de ses lai dans cette sans \n",
      "====================================================================================================\n",
      "1/1 [==============================] - 0s 16ms/step\n",
      "1/1 [==============================] - 0s 13ms/step\n",
      "1/1 [==============================] - 0s 13ms/step\n",
      "1/1 [==============================] - 0s 13ms/step\n",
      "1/1 [==============================] - 0s 13ms/step\n",
      "1/1 [==============================] - 0s 15ms/step\n",
      "1/1 [==============================] - 0s 15ms/step\n",
      "1/1 [==============================] - 0s 14ms/step\n",
      "1/1 [==============================] - 0s 13ms/step\n",
      "1/1 [==============================] - 0s 18ms/step\n",
      "1/1 [==============================] - 0s 13ms/step\n",
      "1/1 [==============================] - 0s 13ms/step\n",
      "Test sentence:  10\n",
      "sentence:  the more you study the more you discover your ignorance\n",
      "original translate:  plus on étudie plus on découvre sa propre ignorance \n",
      "predicted Translate:  jai commencé à tom mais je pouvezvous me sens la \n",
      "====================================================================================================\n"
     ]
    }
   ],
   "source": [
    "def tokenizer_(text_data):\n",
    "    tokenizer = Tokenizer()\n",
    "    tokenizer.fit_on_texts(text_data)\n",
    "    return tokenizer\n",
    "\n",
    "tokenizer_input = tokenizer_(X_train)\n",
    "\n",
    "for i in range(10):\n",
    "    sentence = X_test.iloc[i, 1]\n",
    "    original_target = y_test.iloc[i, 1]\n",
    "    #input_seq = target_token_index.texts_to_sequences([sentence])\n",
    "    input_seq = tokenizer_input.texts_to_sequences([sentence])\n",
    "    pad_sequence = pad_sequences(input_seq, maxlen= 30, padding='post')\n",
    "    predicted_target = decode_sequence(pad_sequence)\n",
    "    print(\"Test sentence: \",i+1)\n",
    "    print(\"sentence: \",sentence)\n",
    "    print(\"original translate:\",original_target[6:-4]) #don't print start and end\n",
    "    print(\"predicted Translate:\",predicted_target[:-4]) ##don't print end\n",
    "    print(\"==\"*50)"
   ]
  },
  {
   "cell_type": "code",
   "execution_count": null,
   "id": "c4f2d8ea-2615-4524-88cb-9e6b710912ae",
   "metadata": {},
   "outputs": [],
   "source": []
  },
  {
   "cell_type": "code",
   "execution_count": null,
   "id": "0ff63cd5-941d-4df8-b626-5ae48b1fa4ac",
   "metadata": {},
   "outputs": [],
   "source": []
  },
  {
   "cell_type": "code",
   "execution_count": null,
   "id": "8007c29c-cabc-4e6e-83f6-6f5aaf3b9e71",
   "metadata": {},
   "outputs": [],
   "source": []
  }
 ],
 "metadata": {
  "kernelspec": {
   "display_name": "Python 3",
   "language": "python",
   "name": "python3"
  },
  "language_info": {
   "codemirror_mode": {
    "name": "ipython",
    "version": 3
   },
   "file_extension": ".py",
   "mimetype": "text/x-python",
   "name": "python",
   "nbconvert_exporter": "python",
   "pygments_lexer": "ipython3",
   "version": "3.8.16"
  }
 },
 "nbformat": 4,
 "nbformat_minor": 5
}
